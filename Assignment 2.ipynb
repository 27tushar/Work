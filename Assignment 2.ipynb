{
 "cells": [
  {
   "cell_type": "markdown",
   "id": "9079d1e7",
   "metadata": {},
   "source": [
    "# Python Assignment 2"
   ]
  },
  {
   "cell_type": "markdown",
   "id": "4b5ae95f",
   "metadata": {},
   "source": [
    "# Question 1"
   ]
  },
  {
   "cell_type": "code",
   "execution_count": null,
   "id": "e42ca423",
   "metadata": {},
   "outputs": [],
   "source": [
    "#using for loop\n",
    "#n= int(input())  in case we need to run the pattern depending on users input\n",
    "n=5\n",
    "for i in range(1,n+1):\n",
    "    for j in range(i):\n",
    "        print('*', end='')\n",
    "    print()\n",
    "for i in range(1,n):\n",
    "    for j in range(n-i,0,-1):\n",
    "        print('*',end='')\n",
    "    print()"
   ]
  },
  {
   "cell_type": "code",
   "execution_count": null,
   "id": "4482db37",
   "metadata": {},
   "outputs": [],
   "source": [
    "#using while loop\n",
    "#n= int(input()) in case we need to run the pattern depending on users input\n",
    "n=5\n",
    "i=1\n",
    "\n",
    "while i <= n:\n",
    "    j=0\n",
    "    while j<i:\n",
    "        print('*',end='')\n",
    "        j=j+1\n",
    "    i=i+1\n",
    "    print()\n",
    "i=1\n",
    "\n",
    "while i<n:\n",
    "    j=n-i\n",
    "    while j>0:\n",
    "        print('*',end='')\n",
    "        j=j-1\n",
    "    print()\n",
    "    i=i+1\n",
    "    "
   ]
  },
  {
   "cell_type": "markdown",
   "id": "2acba218",
   "metadata": {},
   "source": [
    "# Question 2"
   ]
  },
  {
   "cell_type": "code",
   "execution_count": null,
   "id": "db0b76f7",
   "metadata": {},
   "outputs": [],
   "source": [
    "a=input('enter a word')\n",
    "a=a[::-1]\n",
    "print(a)"
   ]
  }
 ],
 "metadata": {
  "kernelspec": {
   "display_name": "Python 3 (ipykernel)",
   "language": "python",
   "name": "python3"
  },
  "language_info": {
   "codemirror_mode": {
    "name": "ipython",
    "version": 3
   },
   "file_extension": ".py",
   "mimetype": "text/x-python",
   "name": "python",
   "nbconvert_exporter": "python",
   "pygments_lexer": "ipython3",
   "version": "3.9.12"
  }
 },
 "nbformat": 4,
 "nbformat_minor": 5
}
