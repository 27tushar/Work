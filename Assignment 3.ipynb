{
 "cells": [
  {
   "cell_type": "markdown",
   "id": "1d239b56",
   "metadata": {},
   "source": [
    "# sol 1.1"
   ]
  },
  {
   "cell_type": "code",
   "execution_count": 1,
   "id": "3f85afc8",
   "metadata": {},
   "outputs": [],
   "source": [
    "def myreduce(fucntion, iterable):\n",
    "    it = iter(iterable)\n",
    "    answer= next(it)\n",
    "    \n",
    "    for i in it:\n",
    "        \n",
    "        answer= fucntion(answer, i)\n",
    "    return answer"
   ]
  },
  {
   "cell_type": "markdown",
   "id": "91ae2fc2",
   "metadata": {},
   "source": [
    "# sol 1.2"
   ]
  },
  {
   "cell_type": "code",
   "execution_count": 2,
   "id": "1b8e6015",
   "metadata": {},
   "outputs": [],
   "source": [
    "def myfileter(func, iterable):\n",
    "    it= iter(iterable)\n",
    "    answer=[]\n",
    "    for i in it :\n",
    "        if func(i)== True:\n",
    "            answer.append(i)\n",
    "    return answer"
   ]
  },
  {
   "cell_type": "markdown",
   "id": "450924e9",
   "metadata": {},
   "source": [
    "# sol 2.1"
   ]
  },
  {
   "cell_type": "code",
   "execution_count": 5,
   "id": "0d3a7e95",
   "metadata": {},
   "outputs": [
    {
     "data": {
      "text/plain": [
       "['x', 'xx', 'xxx', 'xxxx', 'y', 'yy', 'yyy', 'yyyy', 'z', 'zz', 'zzz', 'zzzz']"
      ]
     },
     "execution_count": 5,
     "metadata": {},
     "output_type": "execute_result"
    }
   ],
   "source": [
    "a='x y z'\n",
    "b=a.split(' ')\n",
    "li=[i*j for i in b for j in range(1,5)]\n",
    "li"
   ]
  },
  {
   "cell_type": "markdown",
   "id": "d62c2b25",
   "metadata": {},
   "source": [
    "# sol 2.2"
   ]
  },
  {
   "cell_type": "code",
   "execution_count": 6,
   "id": "5db3f1c7",
   "metadata": {},
   "outputs": [
    {
     "data": {
      "text/plain": [
       "['x', 'y', 'z', 'xx', 'yy', 'zz', 'xxx', 'yyy', 'zzz', 'xxxx', 'yyyy', 'zzzz']"
      ]
     },
     "execution_count": 6,
     "metadata": {},
     "output_type": "execute_result"
    }
   ],
   "source": [
    "li_2=[j*i for j in range(1,5) for i in b]\n",
    "li_2"
   ]
  },
  {
   "cell_type": "markdown",
   "id": "514e2098",
   "metadata": {},
   "source": [
    "# sol 2.3"
   ]
  },
  {
   "cell_type": "code",
   "execution_count": 7,
   "id": "7ecf5839",
   "metadata": {},
   "outputs": [
    {
     "data": {
      "text/plain": [
       "[[2], [3], [4], [3], [4], [5], [4], [5], [6]]"
      ]
     },
     "execution_count": 7,
     "metadata": {},
     "output_type": "execute_result"
    }
   ],
   "source": [
    "c=[]\n",
    "for i in range(2,7):\n",
    "    c.append(i)\n",
    "li_3=[[j] for i in range((len(c)//2)+1) for j in c[i:i+3]]\n",
    "li_3"
   ]
  },
  {
   "cell_type": "markdown",
   "id": "8ff14d98",
   "metadata": {},
   "source": [
    "# sol 2.4"
   ]
  },
  {
   "cell_type": "code",
   "execution_count": 8,
   "id": "7573c77a",
   "metadata": {},
   "outputs": [
    {
     "data": {
      "text/plain": [
       "[[2, 3, 4, 5], [3, 4, 5, 6], [4, 5, 6, 7], [5, 6, 7, 8]]"
      ]
     },
     "execution_count": 8,
     "metadata": {},
     "output_type": "execute_result"
    }
   ],
   "source": [
    "e=[]\n",
    "for i in range(2,9):\n",
    "    e.append(i)\n",
    "li_4=[[i for i in e[j:j+4]] for j in range(len(e)-3)]\n",
    "li_4"
   ]
  },
  {
   "cell_type": "markdown",
   "id": "f3c16d3a",
   "metadata": {},
   "source": [
    "# sol 2.5"
   ]
  },
  {
   "cell_type": "code",
   "execution_count": 9,
   "id": "44595941",
   "metadata": {},
   "outputs": [
    {
     "data": {
      "text/plain": [
       "[(1, 1), (2, 1), (3, 1), (1, 2), (2, 2), (3, 2), (1, 3), (2, 3), (3, 3)]"
      ]
     },
     "execution_count": 9,
     "metadata": {},
     "output_type": "execute_result"
    }
   ],
   "source": [
    "li_5=[(i,j) for j in range(1,4) for i in range(1,4)]\n",
    "li_5"
   ]
  },
  {
   "cell_type": "code",
   "execution_count": null,
   "id": "c629a7c1",
   "metadata": {},
   "outputs": [],
   "source": []
  }
 ],
 "metadata": {
  "kernelspec": {
   "display_name": "Python 3 (ipykernel)",
   "language": "python",
   "name": "python3"
  },
  "language_info": {
   "codemirror_mode": {
    "name": "ipython",
    "version": 3
   },
   "file_extension": ".py",
   "mimetype": "text/x-python",
   "name": "python",
   "nbconvert_exporter": "python",
   "pygments_lexer": "ipython3",
   "version": "3.9.12"
  }
 },
 "nbformat": 4,
 "nbformat_minor": 5
}
